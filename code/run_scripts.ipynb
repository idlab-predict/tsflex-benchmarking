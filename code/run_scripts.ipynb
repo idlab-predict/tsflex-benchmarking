{
 "cells": [
  {
   "cell_type": "code",
   "execution_count": null,
   "id": "6fb9aebe-7ebf-4fbb-ad60-37098695ba29",
   "metadata": {},
   "outputs": [],
   "source": [
    "#!pip install -U tsflex"
   ]
  },
  {
   "cell_type": "code",
   "execution_count": null,
   "id": "8dfe7e41-b754-4d6e-b112-6a501612d94a",
   "metadata": {},
   "outputs": [],
   "source": [
    "print('hello_world')"
   ]
  },
  {
   "cell_type": "markdown",
   "id": "903b9817-b44c-4711-88c0-7c83dc9c471d",
   "metadata": {},
   "source": [
    "## `tsflex`"
   ]
  },
  {
   "cell_type": "code",
   "execution_count": null,
   "id": "f2d30cdd",
   "metadata": {
    "pycharm": {
     "name": "#%%\n"
    },
    "tags": []
   },
   "outputs": [],
   "source": [
    "for i in range(20):\n",
    "    !python tsflex_sleep_w30s_s10s.py --index={i} --numb-window-strides=1 --multiprocessing=1"
   ]
  },
  {
   "cell_type": "code",
   "execution_count": null,
   "id": "d3938e55-13f8-417d-8472-36c68042ecad",
   "metadata": {
    "pycharm": {
     "name": "#%%\n"
    },
    "tags": []
   },
   "outputs": [],
   "source": [
    "for i in range(20):\n",
    "    !python tsflex_sleep_w30s_s10s.py --index={i} --numb-window-strides=1 --multiprocessing=0"
   ]
  },
  {
   "cell_type": "markdown",
   "id": "eba6b45b-42cc-4384-8203-0a40d8b9de09",
   "metadata": {
    "jp-MarkdownHeadingCollapsed": true,
    "tags": []
   },
   "source": [
    "## `tsfresh`"
   ]
  },
  {
   "cell_type": "code",
   "execution_count": null,
   "id": "af24aa74",
   "metadata": {
    "pycharm": {
     "name": "#%%\n"
    },
    "tags": []
   },
   "outputs": [],
   "source": [
    "for i in range(20):\n",
    "    !python tsfresh_sleep_w30s_s10s.py --index={i} --multiprocessing=0"
   ]
  },
  {
   "cell_type": "code",
   "execution_count": null,
   "id": "673bd57a",
   "metadata": {
    "pycharm": {
     "name": "#%%\n"
    },
    "tags": []
   },
   "outputs": [],
   "source": [
    "for i in range(20):\n",
    "    !python tsfresh_sleep_w30s_s10s.py --index={i} --multiprocessing=1"
   ]
  },
  {
   "cell_type": "markdown",
   "id": "0f506da0-d1b6-4239-9314-9c3fcc7b3847",
   "metadata": {},
   "source": [
    "## `tsfel`"
   ]
  },
  {
   "cell_type": "code",
   "execution_count": null,
   "id": "d2d3da9a-743a-4c61-9785-f912125750c4",
   "metadata": {
    "pycharm": {
     "name": "#%%\n"
    },
    "tags": []
   },
   "outputs": [],
   "source": [
    "for i in range(20):\n",
    "    !python  tsfel_sleep_w30s_s10s.py --index={i} --multiprocessing=1"
   ]
  },
  {
   "cell_type": "code",
   "execution_count": null,
   "id": "dee1371d",
   "metadata": {
    "collapsed": false,
    "jupyter": {
     "outputs_hidden": false
    },
    "pycharm": {
     "name": "#%%\n"
    }
   },
   "outputs": [],
   "source": [
    "for i in range(20):\n",
    "    !python  tsfel_sleep_w30s_s10s.py --index={i} --multiprocessing=0"
   ]
  },
  {
   "cell_type": "markdown",
   "id": "03cad359-1c9f-4ef8-b6d1-7e3df080301b",
   "metadata": {},
   "source": [
    "## `Seglearn`"
   ]
  },
  {
   "cell_type": "code",
   "execution_count": null,
   "id": "8f045682",
   "metadata": {
    "collapsed": false,
    "jupyter": {
     "outputs_hidden": false
    },
    "pycharm": {
     "name": "#%%\n"
    }
   },
   "outputs": [],
   "source": [
    "for i in range(20):\n",
    "    !python  seglearn_sleep_w30s_s10s.py --index={i}"
   ]
  }
 ],
 "metadata": {
  "kernelspec": {
   "display_name": "Python 3 (ipykernel)",
   "language": "python",
   "name": "python3"
  },
  "language_info": {
   "codemirror_mode": {
    "name": "ipython",
    "version": 3
   },
   "file_extension": ".py",
   "mimetype": "text/x-python",
   "name": "python",
   "nbconvert_exporter": "python",
   "pygments_lexer": "ipython3",
   "version": "3.8.0"
  }
 },
 "nbformat": 4,
 "nbformat_minor": 5
}
