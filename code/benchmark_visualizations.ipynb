{
 "cells": [
  {
   "cell_type": "code",
   "execution_count": 1,
   "id": "0b205530-7302-4b32-85ec-ae8c9ba2b405",
   "metadata": {},
   "outputs": [],
   "source": [
    "%load_ext autoreload\n",
    "%autoreload 2"
   ]
  },
  {
   "cell_type": "code",
   "execution_count": 2,
   "id": "257699c8-d9da-4593-a6cb-cd9241c17c9c",
   "metadata": {},
   "outputs": [],
   "source": [
    "import os\n",
    "from pathlib import Path\n",
    "from typing import List, Union\n",
    "\n",
    "import numpy as np\n",
    "import pandas as pd\n",
    "import plotly.graph_objects as go\n",
    "from plotly.subplots import make_subplots\n",
    "from utils import process_viztrace_json"
   ]
  },
  {
   "cell_type": "code",
   "execution_count": 3,
   "id": "6083ada2-b9fe-4293-ba58-a15559a97727",
   "metadata": {},
   "outputs": [
    {
     "name": "stderr",
     "output_type": "stream",
     "text": [
      "/tmp/ipykernel_2796/1006291191.py:31: FutureWarning: Passing 'suffixes' which cause duplicate columns {'pid_x', 'tid_x', 'args.cpu_percent_x', 'ph_x', 'name_x'} in the result is deprecated and will raise a MergeError in a future version.\n",
      "  df_cpu = pd.merge_asof(\n",
      "/tmp/ipykernel_2796/1006291191.py:31: FutureWarning: Passing 'suffixes' which cause duplicate columns {'name_y', 'ph_y', 'args.cpu_percent_y', 'pid_y', 'tid_y'} in the result is deprecated and will raise a MergeError in a future version.\n",
      "  df_cpu = pd.merge_asof(\n"
     ]
    }
   ],
   "source": [
    "benchmark_dict = {}\n",
    "benchmark_endtimes = {}\n",
    "n_runs = 20\n",
    "for benchmark_name in [\n",
    "    \"tsfresh_sequential\",\n",
    "    \"tsfresh_mp\",\n",
    "    \"seglearn\",\n",
    "    \"tsfel_sequential\",\n",
    "    \"tsfel_mp\",\n",
    "    \"tsflex_sequential\",\n",
    "    \"tsflex_mp\",\n",
    "]:\n",
    "    df_cpu, df_mem = None, None\n",
    "    for i in range(n_runs):\n",
    "        df_new_cpu, df_new_mem = process_viztrace_json(\n",
    "            f\"benchmark_jsons/{benchmark_name}_{i}.json\"\n",
    "        )\n",
    "\n",
    "        if benchmark_name not in benchmark_endtimes:\n",
    "            benchmark_endtimes[benchmark_name] = [df_new_mem.index[-1]]\n",
    "        else:\n",
    "            # print('append')\n",
    "            benchmark_endtimes[benchmark_name].append(df_new_mem.index[-1])\n",
    "\n",
    "        if df_cpu is None:\n",
    "            df_cpu = df_new_cpu\n",
    "        else:\n",
    "            df_new_cpu[\"args.cpu_percent\"].rename(f\"args.cpu_percent_{i}\")\n",
    "            dfs = list([df_cpu, df_new_cpu])\n",
    "            dfs.sort(key=lambda x: x.index[-1], reverse=True)\n",
    "            df_cpu = pd.merge_asof(\n",
    "                dfs[0],\n",
    "                dfs[1],\n",
    "                left_index=True,\n",
    "                right_index=True,\n",
    "                tolerance=pd.Timedelta(\"100ms\"),\n",
    "            )\n",
    "\n",
    "        if df_mem is None:\n",
    "            df_mem = df_new_mem\n",
    "        else:\n",
    "            df_new_mem = df_new_mem.filter(like=\"args.\").rename(\n",
    "                columns={\"args.rss\": f\"args.rss{i}\", \"args.vms\": f\"args.vms{i}\"}\n",
    "            )\n",
    "            dfs = list([df_mem, df_new_mem])\n",
    "            dfs.sort(key=lambda x: x.index[-1], reverse=True)\n",
    "            df_mem = pd.merge_asof(\n",
    "                dfs[0],\n",
    "                dfs[1],\n",
    "                left_index=True,\n",
    "                right_index=True,\n",
    "                tolerance=pd.Timedelta(\"100ms\"),\n",
    "            )\n",
    "\n",
    "    # mem usage\n",
    "    df_mem[\"mean_rss\"] = df_mem.filter(like=\"args.rss\").mean(axis=1)\n",
    "    df_mem[\"std_rss\"] = df_mem.filter(like=\"args.rss\").std(axis=1)\n",
    "    df_mem[\"max_rss\"] = df_mem.filter(like=\"args.rss\").max(axis=1)\n",
    "\n",
    "    # mean cpu usage\n",
    "    df_cpu[\"mean_usage\"] = df_cpu.filter(like=\"args.cpu_percent\").mean(axis=1)\n",
    "    df_cpu[\"std\"] = df_cpu.filter(like=\"args.cpu_percent\").std(axis=1)\n",
    "\n",
    "    benchmark_dict[benchmark_name] = [df_mem, df_cpu]"
   ]
  },
  {
   "cell_type": "code",
   "execution_count": 4,
   "id": "4312e10d-b129-4fdc-bc50-f95b751053b6",
   "metadata": {},
   "outputs": [
    {
     "name": "stdout",
     "output_type": "stream",
     "text": [
      "tsfresh_sequential  \t 4040.6 +/- 2243.0\n",
      "tsfresh_mp          \t 4043.8 +/- 14.4\n",
      "seglearn            \t 435.3 +/- 1.5\n",
      "tsfel_sequential    \t 2.9 +/- 0.1\n",
      "tsfel_mp            \t 2.9 +/- 0.1\n",
      "tsflex_sequential   \t 1.2 +/- 0.1\n",
      "tsflex_mp           \t 1.3 +/- 0.1\n"
     ]
    }
   ],
   "source": [
    "for configuration, (df_mem, df_cpu) in benchmark_dict.items():\n",
    "    max_mem = df_mem.filter(like='args.rss').max()\n",
    "    max_mem_mean = max_mem.mean()\n",
    "    max_mem_std = max_mem.std()\n",
    "    print(f\"{configuration:<20}\\t\", round(max_mem_mean / 1e6, 1), \"+/-\", round(max_mem_std / 1e6, 1))"
   ]
  },
  {
   "cell_type": "code",
   "execution_count": 5,
   "id": "a4ae8fc6-086c-4087-ae3c-35f9542cd601",
   "metadata": {},
   "outputs": [
    {
     "name": "stdout",
     "output_type": "stream",
     "text": [
      "tsfresh_sequential   \t 167.8 +/- 12.1\n",
      "tsfresh_mp           \t 99.4 +/- 2.4\n",
      "seglearn             \t 9.5 +/- 0.5\n",
      "tsfel_sequential     \t 14.9 +/- 0.8\n",
      "tsfel_mp             \t 1.7 +/- 0.0\n",
      "tsflex_sequential    \t 4.1 +/- 0.1\n",
      "tsflex_mp            \t 0.7 +/- 0.0\n"
     ]
    }
   ],
   "source": [
    "for configuration, (df_mem, df_cpu) in benchmark_dict.items():\n",
    "    nan_masks = df_mem.filter(like='args.rss').notna().values\n",
    "    end_times = np.array([df_mem[nan_masks[:, i]].index[-1].total_seconds() for i in range(20)])\n",
    "    end_time_mean = end_times.mean()\n",
    "    end_time_std = end_times.std()\n",
    "    print(f\"{configuration:<20}\", '\\t', round(end_time_mean, 1), \"+/-\", round(end_time_std, 1))"
   ]
  },
  {
   "cell_type": "code",
   "execution_count": 6,
   "id": "62659aa9-3ea4-4f80-b082-ffeb37f0d469",
   "metadata": {},
   "outputs": [],
   "source": [
    "# benchmark_dict[\"tsfel_sequential\"][0].filter(like=\"args.rss\").mean(\n",
    "#     axis=1\n",
    "# ) + benchmark_dict[\"tsfel_sequential\"][0].filter(like=\"args.rss\").rolling(\n",
    "#     \"1s\"\n",
    "# ).std().mean(\n",
    "#     axis=1\n",
    "# )\n",
    "\n",
    "# np.max((benchmark_dict['tsfel_sequential'][0].filter(like='args.rss').mean(axis=1) + benchmark_dict['tsfel_sequential'][0].filter(like='args.rss').rolling('1s').std().mean(axis=1), benchmark_dict['tsfel_sequential'][0].filter(like='args.rss').max(axis=1)), axis=0)\n",
    "\n",
    "# benchmark_dict['tsfel_sequential'][0].filter(like='args.rss').mean(axis=1).plot()\n",
    "# (benchmark_dict['tsfel_sequential'][0].filter(like='args.rss').mean(axis=1) +\n",
    "# (benchmark_dict['tsfel_sequential'][0].filter(like='args.rss').mean(axis=1)"
   ]
  },
  {
   "cell_type": "code",
   "execution_count": 7,
   "id": "f008616e-ca53-46db-bc5c-8d98b3497a22",
   "metadata": {},
   "outputs": [
    {
     "name": "stdout",
     "output_type": "stream",
     "text": [
      "<class 'pandas.core.frame.DataFrame'>\n",
      "RangeIndex: 20 entries, 0 to 19\n",
      "Data columns (total 7 columns):\n",
      " #   Column              Non-Null Count  Dtype  \n",
      "---  ------              --------------  -----  \n",
      " 0   tsfresh_sequential  20 non-null     float64\n",
      " 1   tsfresh_mp          20 non-null     float64\n",
      " 2   seglearn            20 non-null     float64\n",
      " 3   tsfel_sequential    20 non-null     float64\n",
      " 4   tsfel_mp            20 non-null     float64\n",
      " 5   tsflex_sequential   20 non-null     float64\n",
      " 6   tsflex_mp           20 non-null     float64\n",
      "dtypes: float64(7)\n",
      "memory usage: 1.2 KB\n"
     ]
    }
   ],
   "source": [
    "df_endtime = pd.DataFrame(benchmark_endtimes)\n",
    "df_endtime= df_endtime.apply(lambda x: x.dt.total_seconds())\n",
    "df_endtime.info()\n",
    "\n",
    "# df_endtime.plot(kind='box', logy=True, figsize=(30, 10))"
   ]
  },
  {
   "cell_type": "code",
   "execution_count": 8,
   "id": "772681ef-15b7-44f9-abbd-1ce2de944cb9",
   "metadata": {},
   "outputs": [
    {
     "data": {
      "text/html": [
       "<div>\n",
       "<style scoped>\n",
       "    .dataframe tbody tr th:only-of-type {\n",
       "        vertical-align: middle;\n",
       "    }\n",
       "\n",
       "    .dataframe tbody tr th {\n",
       "        vertical-align: top;\n",
       "    }\n",
       "\n",
       "    .dataframe thead th {\n",
       "        text-align: right;\n",
       "    }\n",
       "</style>\n",
       "<table border=\"1\" class=\"dataframe\">\n",
       "  <thead>\n",
       "    <tr style=\"text-align: right;\">\n",
       "      <th></th>\n",
       "      <th>count</th>\n",
       "      <th>mean</th>\n",
       "      <th>std</th>\n",
       "      <th>min</th>\n",
       "      <th>25%</th>\n",
       "      <th>50%</th>\n",
       "      <th>75%</th>\n",
       "      <th>max</th>\n",
       "    </tr>\n",
       "  </thead>\n",
       "  <tbody>\n",
       "    <tr>\n",
       "      <th>tsflex_mp</th>\n",
       "      <td>20</td>\n",
       "      <td>0 days 00:00:00.602292004</td>\n",
       "      <td>0 days 00:00:00.033384340</td>\n",
       "      <td>0 days 00:00:00.549251754</td>\n",
       "      <td>0 days 00:00:00.571975953</td>\n",
       "      <td>0 days 00:00:00.594903754</td>\n",
       "      <td>0 days 00:00:00.613093018</td>\n",
       "      <td>0 days 00:00:00.669906652</td>\n",
       "    </tr>\n",
       "    <tr>\n",
       "      <th>tsfel_mp</th>\n",
       "      <td>20</td>\n",
       "      <td>0 days 00:00:01.660263948</td>\n",
       "      <td>0 days 00:00:00.039593228</td>\n",
       "      <td>0 days 00:00:01.603609586</td>\n",
       "      <td>0 days 00:00:01.626708392</td>\n",
       "      <td>0 days 00:00:01.654917294</td>\n",
       "      <td>0 days 00:00:01.691268790</td>\n",
       "      <td>0 days 00:00:01.743647473</td>\n",
       "    </tr>\n",
       "    <tr>\n",
       "      <th>tsflex_sequential</th>\n",
       "      <td>20</td>\n",
       "      <td>0 days 00:00:03.975466918</td>\n",
       "      <td>0 days 00:00:00.166150739</td>\n",
       "      <td>0 days 00:00:03.788163312</td>\n",
       "      <td>0 days 00:00:03.889922103</td>\n",
       "      <td>0 days 00:00:03.967451314</td>\n",
       "      <td>0 days 00:00:04.007876491</td>\n",
       "      <td>0 days 00:00:04.501543516</td>\n",
       "    </tr>\n",
       "    <tr>\n",
       "      <th>seglearn</th>\n",
       "      <td>20</td>\n",
       "      <td>0 days 00:00:09.364222149</td>\n",
       "      <td>0 days 00:00:00.514929612</td>\n",
       "      <td>0 days 00:00:09.031694152</td>\n",
       "      <td>0 days 00:00:09.132701652</td>\n",
       "      <td>0 days 00:00:09.197534895</td>\n",
       "      <td>0 days 00:00:09.280590795</td>\n",
       "      <td>0 days 00:00:11.288741096</td>\n",
       "    </tr>\n",
       "    <tr>\n",
       "      <th>tsfel_sequential</th>\n",
       "      <td>20</td>\n",
       "      <td>0 days 00:00:14.839587192</td>\n",
       "      <td>0 days 00:00:00.876230021</td>\n",
       "      <td>0 days 00:00:12.646683863</td>\n",
       "      <td>0 days 00:00:14.247700638</td>\n",
       "      <td>0 days 00:00:15.250473998</td>\n",
       "      <td>0 days 00:00:15.467680240</td>\n",
       "      <td>0 days 00:00:15.975508738</td>\n",
       "    </tr>\n",
       "    <tr>\n",
       "      <th>tsfresh_mp</th>\n",
       "      <td>20</td>\n",
       "      <td>0 days 00:01:39.308772079</td>\n",
       "      <td>0 days 00:00:02.486743827</td>\n",
       "      <td>0 days 00:01:35.956229607</td>\n",
       "      <td>0 days 00:01:37.613468141</td>\n",
       "      <td>0 days 00:01:39.220649958</td>\n",
       "      <td>0 days 00:01:40.765660068</td>\n",
       "      <td>0 days 00:01:45.264795967</td>\n",
       "    </tr>\n",
       "    <tr>\n",
       "      <th>tsfresh_sequential</th>\n",
       "      <td>20</td>\n",
       "      <td>0 days 00:02:47.744687639</td>\n",
       "      <td>0 days 00:00:12.470041607</td>\n",
       "      <td>0 days 00:01:55.700742031</td>\n",
       "      <td>0 days 00:02:48.440210144</td>\n",
       "      <td>0 days 00:02:50.673559181</td>\n",
       "      <td>0 days 00:02:51.474298922</td>\n",
       "      <td>0 days 00:02:54.789461963</td>\n",
       "    </tr>\n",
       "  </tbody>\n",
       "</table>\n",
       "</div>"
      ],
      "text/plain": [
       "                   count                      mean                       std  \\\n",
       "tsflex_mp             20 0 days 00:00:00.602292004 0 days 00:00:00.033384340   \n",
       "tsfel_mp              20 0 days 00:00:01.660263948 0 days 00:00:00.039593228   \n",
       "tsflex_sequential     20 0 days 00:00:03.975466918 0 days 00:00:00.166150739   \n",
       "seglearn              20 0 days 00:00:09.364222149 0 days 00:00:00.514929612   \n",
       "tsfel_sequential      20 0 days 00:00:14.839587192 0 days 00:00:00.876230021   \n",
       "tsfresh_mp            20 0 days 00:01:39.308772079 0 days 00:00:02.486743827   \n",
       "tsfresh_sequential    20 0 days 00:02:47.744687639 0 days 00:00:12.470041607   \n",
       "\n",
       "                                         min                       25%  \\\n",
       "tsflex_mp          0 days 00:00:00.549251754 0 days 00:00:00.571975953   \n",
       "tsfel_mp           0 days 00:00:01.603609586 0 days 00:00:01.626708392   \n",
       "tsflex_sequential  0 days 00:00:03.788163312 0 days 00:00:03.889922103   \n",
       "seglearn           0 days 00:00:09.031694152 0 days 00:00:09.132701652   \n",
       "tsfel_sequential   0 days 00:00:12.646683863 0 days 00:00:14.247700638   \n",
       "tsfresh_mp         0 days 00:01:35.956229607 0 days 00:01:37.613468141   \n",
       "tsfresh_sequential 0 days 00:01:55.700742031 0 days 00:02:48.440210144   \n",
       "\n",
       "                                         50%                       75%  \\\n",
       "tsflex_mp          0 days 00:00:00.594903754 0 days 00:00:00.613093018   \n",
       "tsfel_mp           0 days 00:00:01.654917294 0 days 00:00:01.691268790   \n",
       "tsflex_sequential  0 days 00:00:03.967451314 0 days 00:00:04.007876491   \n",
       "seglearn           0 days 00:00:09.197534895 0 days 00:00:09.280590795   \n",
       "tsfel_sequential   0 days 00:00:15.250473998 0 days 00:00:15.467680240   \n",
       "tsfresh_mp         0 days 00:01:39.220649958 0 days 00:01:40.765660068   \n",
       "tsfresh_sequential 0 days 00:02:50.673559181 0 days 00:02:51.474298922   \n",
       "\n",
       "                                         max  \n",
       "tsflex_mp          0 days 00:00:00.669906652  \n",
       "tsfel_mp           0 days 00:00:01.743647473  \n",
       "tsflex_sequential  0 days 00:00:04.501543516  \n",
       "seglearn           0 days 00:00:11.288741096  \n",
       "tsfel_sequential   0 days 00:00:15.975508738  \n",
       "tsfresh_mp         0 days 00:01:45.264795967  \n",
       "tsfresh_sequential 0 days 00:02:54.789461963  "
      ]
     },
     "execution_count": 8,
     "metadata": {},
     "output_type": "execute_result"
    }
   ],
   "source": [
    "pd.DataFrame(benchmark_endtimes).describe().T.sort_values(by='mean')"
   ]
  },
  {
   "cell_type": "code",
   "execution_count": null,
   "id": "a8fccfa7-613b-41f3-b460-4f464546b885",
   "metadata": {},
   "outputs": [],
   "source": [
    "y_tickvals = list(sum([[i * (10 ** pw) for i in [1, 3]] for pw in range(-1, 4)], []))\n",
    "x_tickvals = list(sum([[i * (10 ** pw) for i in [1, 2, 5]] for pw in range(-2, 3)], []))\n",
    "\n",
    "colors = [\n",
    "    \"#1f78b4\",\n",
    "    \"#33a02c\",\n",
    "    #     \"#fb9a99\",\n",
    "    #     \"#e31a1c\",\n",
    "    #     \"#fdbf6f\",\n",
    "    #     \"#ff7f00\",\n",
    "    #     \"#cab2d6\",\n",
    "    \"#6a3d9a\",\n",
    "    #     \"#ffff99\",\n",
    "    #     \"#b15928\",\n",
    "    #     \"#7fc97f\",\n",
    "    #     \"#beaed4\",\n",
    "    #     \"#fdc086\",\n",
    "    #     \"#ffff99\",\n",
    "    #     \"#386cb0\",\n",
    "    \"#f0027f\",\n",
    "    \"#bf5b17\",\n",
    "    \"#666666\",\n",
    "]\n",
    "\n",
    "fig = make_subplots(\n",
    "    shared_xaxes=True,\n",
    "    subplot_titles=[\n",
    "        f\"Strided-window feature extraction - averaged over {n_runs} runs\"\n",
    "    ],  # , \"CPU usage\"],\n",
    ")\n",
    "\n",
    "\n",
    "fig.update_layout(height=500)\n",
    "fig.update_yaxes(type=\"log\", tickvals=y_tickvals)\n",
    "fig.update_yaxes(title_text=\"Memory usage (MB)\")\n",
    "fig.update_xaxes(\n",
    "    type=\"log\",\n",
    "    tickvals=x_tickvals,\n",
    ")  # range=[-1, 2.3], )\n",
    "fig.update_xaxes(title_text=\"Runtime (s)\")\n",
    "\n",
    "\n",
    "# fig.update_yaxes(title_text=\"%\", row=2, col=1)\n",
    "\n",
    "library_list = []\n",
    "\n",
    "color_idx = 0\n",
    "for i, (benchmark_name, (df_mem, df_cpu)) in enumerate(benchmark_dict.items()):\n",
    "    library = benchmark_name.split(\"_\")[0]\n",
    "    multiprocessing = \"_mp\" in benchmark_name.lower()\n",
    "\n",
    "    first = False\n",
    "    if library not in library_list:\n",
    "        first = True\n",
    "        library_list.append(library)\n",
    "\n",
    "    color_idx = library_list.index(library)\n",
    "\n",
    "    kwargs = {} if not multiprocessing else {\"line_dash\": \"dash\"}\n",
    "\n",
    "    fig.add_trace(\n",
    "        go.Scatter(\n",
    "            x=df_mem.index.total_seconds(),\n",
    "            y=df_mem[\"mean_rss\"] / 1e6,\n",
    "            name=benchmark_name,\n",
    "            legendgroup=library,\n",
    "            line_color=colors[color_idx],\n",
    "            **kwargs,\n",
    "        ),\n",
    "        row=1,\n",
    "        col=1,\n",
    "    )\n",
    "\n",
    "    color_str = colors[color_idx]\n",
    "    rgb_vals = [str(int(color_str.lstrip(\"#\")[i : i + 2], 16)) for i in (0, 2, 4)]\n",
    "    fig.add_trace(\n",
    "        go.Scatter(\n",
    "            name=\"upper memory bound\",\n",
    "            x=df_mem.index.total_seconds(),\n",
    "            y=df_mem[\"max_rss\"] / 1e6,\n",
    "            marker=dict(color=\"#444\"),\n",
    "            line=dict(width=0),\n",
    "            mode=\"lines\",\n",
    "            fillcolor=f\"rgba({', '.join(rgb_vals)}, 0.1)\",\n",
    "            fill=\"tonexty\",\n",
    "            showlegend=False,  # first\n",
    "            legendgroup=library,\n",
    "        ),\n",
    "        row=1,\n",
    "        col=1,\n",
    "    )\n",
    "\n",
    "\n",
    "updatemenus = [\n",
    "    dict(\n",
    "        buttons=list(\n",
    "            [\n",
    "                dict(\n",
    "                    args=[{\"yaxis\": {\"type\": \"log\", \"title\": \"Memory usage (MB)\"}}],\n",
    "                    label=\"Y-axis: Log\",\n",
    "                    method=\"relayout\",\n",
    "                ),\n",
    "                dict(\n",
    "                    args=[{\"yaxis\": {\"type\": \"linear\", \"title\": \"Memory usage (MB)\"}}],\n",
    "                    label=\"Y-axis: Linear\",\n",
    "                    method=\"relayout\",\n",
    "                ),\n",
    "            ]\n",
    "        ),\n",
    "        direction=\"down\",\n",
    "        showactive=True,\n",
    "        pad={\"r\": 10, \"t\": 10},\n",
    "        yanchor=\"top\",\n",
    "        y=0.9,\n",
    "    ),\n",
    "    dict(\n",
    "        buttons=list(\n",
    "            [\n",
    "                dict(\n",
    "                    args=[{\"xaxis\": {\"type\": \"log\", \"title\": \"Runtime (s)\"}}],\n",
    "                    label=\"X-axis: Log\",\n",
    "                    method=\"relayout\",\n",
    "                ),\n",
    "                dict(\n",
    "                    args=[{\"xaxis\": {\"type\": \"linear\", \"title\": \"Runtime (s)\"}}],\n",
    "                    label=\"X-axis: Linear\",\n",
    "                    method=\"relayout\",\n",
    "                ),\n",
    "            ]\n",
    "        ),\n",
    "        direction=\"down\",\n",
    "        showactive=True,\n",
    "        pad={\"r\": 10, \"t\": 10},\n",
    "        y=1.05,\n",
    "        yanchor=\"top\",\n",
    "    ),\n",
    "]\n",
    "\n",
    "\n",
    "fig.update_layout(updatemenus=updatemenus)\n",
    "fig.show()"
   ]
  },
  {
   "cell_type": "code",
   "execution_count": 10,
   "id": "ba345740-6c7d-47ae-b765-f1280edecca0",
   "metadata": {},
   "outputs": [],
   "source": [
    "# !pip3 install datapane"
   ]
  },
  {
   "cell_type": "code",
   "execution_count": 11,
   "id": "9984c8ea-9260-4619-9f4c-9e24b5f7fe16",
   "metadata": {},
   "outputs": [],
   "source": [
    "def figs_to_html(\n",
    "    figs: List[go.Figure],\n",
    "    html_path: Union[Path, str],\n",
    "    append=False,\n",
    "    include_plotlyjs=True,\n",
    "):\n",
    "    \"\"\"Save a list of figures in a single HTML file.\n",
    "\n",
    "    :param figs: A list of plotly figures\n",
    "    :param html_path: the HTML path where the figure will be saved\n",
    "    :param append:\n",
    "    \"\"\"\n",
    "    if not isinstance(html_path, Path):\n",
    "        html_path = Path(html_path)\n",
    "\n",
    "    if not html_path.parent.exists():\n",
    "        os.makedirs(html_path.parent)\n",
    "\n",
    "    with open(html_path, \"a\" if append else \"w\") as f:\n",
    "        for fig in figs:\n",
    "            f.write(fig.to_html(full_html=False, include_plotlyjs=include_plotlyjs))\n",
    "\n",
    "\n",
    "figs_to_html([fig], \"benchmark.html\", include_plotlyjs=True)"
   ]
  },
  {
   "cell_type": "markdown",
   "id": "799b0511-a59f-43a5-b851-049478189426",
   "metadata": {
    "tags": []
   },
   "source": [
    "# Embed using datapane"
   ]
  },
  {
   "cell_type": "code",
   "execution_count": 12,
   "id": "dcecd9a7-dfb4-4c11-b406-308494424c86",
   "metadata": {
    "tags": []
   },
   "outputs": [],
   "source": [
    "#!pip3 install -U datapane"
   ]
  },
  {
   "cell_type": "code",
   "execution_count": 13,
   "id": "e7571f31-4c13-47bb-9a93-b5248bea92b7",
   "metadata": {},
   "outputs": [
    {
     "name": "stdout",
     "output_type": "stream",
     "text": [
      "\u001B[32mConnected successfully to https://datapane.com as jonasvdd\u001B[0m\n"
     ]
    }
   ],
   "source": [
    "api_token = \"<API TOKEN>\"\n",
    "!datapane login --token={api_token}"
   ]
  },
  {
   "cell_type": "code",
   "execution_count": 14,
   "id": "d45e82c1-9a45-4bdf-8100-97da2da60458",
   "metadata": {},
   "outputs": [],
   "source": [
    "import datapane as dp \n",
    "\n",
    "report = dp.Report(dp.Plot(fig)) #Create a report"
   ]
  },
  {
   "cell_type": "code",
   "execution_count": 15,
   "id": "6eed6652-8b4a-48a1-8c88-619e75a7f8f1",
   "metadata": {
    "pycharm": {
     "name": "#%%\n"
    }
   },
   "outputs": [
    {
     "data": {
      "text/markdown": [
       "Uploading report and associated data - *please wait...*"
      ],
      "text/plain": [
       "<IPython.core.display.Markdown object>"
      ]
     },
     "metadata": {},
     "output_type": "display_data"
    },
    {
     "data": {
      "text/markdown": [
       "Your report only contains a single element - did you know you can include additional plots, tables and text in a single report? Check out [the docs](https://docs.datapane.com/reports/blocks/layout-pages-and-selects) for more info"
      ],
      "text/plain": [
       "<IPython.core.display.Markdown object>"
      ]
     },
     "metadata": {},
     "output_type": "display_data"
    },
    {
     "data": {
      "text/markdown": [
       "Report successfully uploaded, click [here](https://datapane.com/u/jonasvdd/reports/dkjVy5k/tsflex-benchmark-v2/) to view and share your report."
      ],
      "text/plain": [
       "<IPython.core.display.Markdown object>"
      ]
     },
     "metadata": {},
     "output_type": "display_data"
    }
   ],
   "source": [
    "report.upload(name='tsflex_benchmark_v2') #Publish the report"
   ]
  },
  {
   "cell_type": "code",
   "execution_count": null,
   "id": "427cf22c-7933-49e4-a9ff-ae220023ee4e",
   "metadata": {},
   "outputs": [],
   "source": []
  }
 ],
 "metadata": {
  "kernelspec": {
   "display_name": "Python 3 (ipykernel)",
   "language": "python",
   "name": "python3"
  },
  "language_info": {
   "codemirror_mode": {
    "name": "ipython",
    "version": 3
   },
   "file_extension": ".py",
   "mimetype": "text/x-python",
   "name": "python",
   "nbconvert_exporter": "python",
   "pygments_lexer": "ipython3",
   "version": "3.8.0"
  }
 },
 "nbformat": 4,
 "nbformat_minor": 5
}