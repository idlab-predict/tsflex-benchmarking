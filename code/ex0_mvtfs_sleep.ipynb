{
 "cells": [
  {
   "cell_type": "code",
   "execution_count": 3,
   "id": "9322a53b-c4ab-41a7-90cb-ce4f4183af73",
   "metadata": {
    "tags": []
   },
   "outputs": [],
   "source": [
    "#!pip install mvtsdatatoolkit"
   ]
  },
  {
   "cell_type": "markdown",
   "id": "1444f7e4-818d-462f-9538-a8d2b4be9806",
   "metadata": {},
   "source": [
    "[documentation](https://dmlab.cs.gsu.edu/docs/mvtsdata_toolkit/)"
   ]
  },
  {
   "cell_type": "code",
   "execution_count": 1,
   "id": "b178b362-2b80-4209-bad8-5f10166aaea2",
   "metadata": {},
   "outputs": [],
   "source": [
    "%load_ext autoreload\n",
    "%load_ext memory_profiler\n",
    "%autoreload 2"
   ]
  },
  {
   "cell_type": "code",
   "execution_count": 4,
   "id": "a6b8419e-c8ee-4b8d-961c-91b53b1b61c1",
   "metadata": {},
   "outputs": [],
   "source": [
    "import numpy as np\n",
    "import pandas as pd\n",
    "\n",
    "from utils import get_data"
   ]
  },
  {
   "cell_type": "code",
   "execution_count": 5,
   "id": "6e783ea9-4c22-4512-89df-c60e173aec33",
   "metadata": {},
   "outputs": [
    {
     "name": "stdout",
     "output_type": "stream",
     "text": [
      "memory usage:  96.13 MB\n"
     ]
    }
   ],
   "source": [
    "df_emg = get_data()"
   ]
  },
  {
   "cell_type": "markdown",
   "id": "27d70da5-a602-4e1a-b166-4b2e53f886df",
   "metadata": {},
   "source": [
    "---"
   ]
  },
  {
   "cell_type": "code",
   "execution_count": 6,
   "id": "16627e47-1d62-46ec-91b3-149f56a4ee9e",
   "metadata": {},
   "outputs": [],
   "source": [
    "from mvtsdatatoolkit.features import FeatureExtractor"
   ]
  },
  {
   "cell_type": "code",
   "execution_count": 7,
   "id": "67b8ccf5-477e-4fc1-aad9-58ee9adcf55e",
   "metadata": {},
   "outputs": [
    {
     "ename": "TypeError",
     "evalue": "__init__() missing 1 required positional argument: 'path_to_config'",
     "output_type": "error",
     "traceback": [
      "\u001b[0;31m---------------------------------------------------------------------------\u001b[0m",
      "\u001b[0;31mTypeError\u001b[0m                                 Traceback (most recent call last)",
      "\u001b[0;32m<ipython-input-7-eeddc9e2ba84>\u001b[0m in \u001b[0;36m<module>\u001b[0;34m\u001b[0m\n\u001b[0;32m----> 1\u001b[0;31m \u001b[0mf\u001b[0m \u001b[0;34m=\u001b[0m \u001b[0mFeatureExtractor\u001b[0m\u001b[0;34m(\u001b[0m\u001b[0;34m)\u001b[0m\u001b[0;34m\u001b[0m\u001b[0;34m\u001b[0m\u001b[0m\n\u001b[0m",
      "\u001b[0;31mTypeError\u001b[0m: __init__() missing 1 required positional argument: 'path_to_config'"
     ]
    }
   ],
   "source": [
    "f = FeatureExtractor()"
   ]
  },
  {
   "cell_type": "code",
   "execution_count": 4,
   "id": "e4f24b97-3d53-4d61-8544-fe848be2d660",
   "metadata": {},
   "outputs": [],
   "source": [
    "from seglearn.transform import Segment, FeatureRep, FeatureRepMix\n",
    "from seglearn.feature_functions import (\n",
    "    mean,\n",
    "    std,\n",
    "    var,\n",
    "    maximum,\n",
    "    minimum,\n",
    "    skew,\n",
    "    kurt,\n",
    "    # slope\n",
    "    # quantiles\n",
    "    root_mean_square,\n",
    "    abs_sum,  # same as area\n",
    ")"
   ]
  },
  {
   "cell_type": "code",
   "execution_count": 5,
   "id": "9b040a39-bd30-4d00-b158-860451d48238",
   "metadata": {},
   "outputs": [],
   "source": [
    "def slope(x):\n",
    "    return np.polyfit(np.arange(0, len(x)), x, 1)[0]\n",
    "\n",
    "quantiles = [0.25, 0.5, 0.75]\n",
    "\n",
    "union = FeatureRepMix([\n",
    "    ('feat_extr', FeatureRep(features={\n",
    "        'min': minimum,\n",
    "        'max': maximum,\n",
    "        'mean': mean,\n",
    "        'std': std,\n",
    "        'var': var,\n",
    "        'skew': skew,\n",
    "        'kurt': kurt,\n",
    "        'rms': root_mean_square,\n",
    "        'slope': slope,\n",
    "        **{f'quantile_{q}': lambda x: np.quantile(x, q=q) for q in []}\n",
    "    }), [\"emg\", \"eog\", \"lso\", \"rio\", \"m1-a1\"]),\n",
    "])"
   ]
  },
  {
   "cell_type": "code",
   "execution_count": 6,
   "id": "42d6f770-95b7-494a-943c-997eeec7ca06",
   "metadata": {},
   "outputs": [
    {
     "name": "stdout",
     "output_type": "stream",
     "text": [
      "peak memory: 170.41 MiB, increment: -0.10 MiB\n"
     ]
    }
   ],
   "source": [
    "%%memit\n",
    "a  = 1"
   ]
  },
  {
   "cell_type": "code",
   "execution_count": null,
   "id": "5e3575c3-7ce4-4d4c-8155-9e887b28c648",
   "metadata": {},
   "outputs": [],
   "source": [
    "%%time\n",
    "%%memit\n",
    "segment = Segment(width=int(30*fs), step=int(10*fs))\n",
    "X, y, _ = segment.fit_transform(X=df_emg.values, y=[0]*len(df_emg))"
   ]
  },
  {
   "cell_type": "code",
   "execution_count": 9,
   "id": "f98adb08-67f2-4d72-b685-87e340299c65",
   "metadata": {
    "tags": []
   },
   "outputs": [],
   "source": [
    "# %mprun -f fc.calculate fc.calculate(data=df_emg, n_jobs=0)"
   ]
  },
  {
   "cell_type": "code",
   "execution_count": 17,
   "id": "1be1dabe-da0d-45cb-ab3c-95510348371b",
   "metadata": {},
   "outputs": [
    {
     "name": "stdout",
     "output_type": "stream",
     "text": [
      "peak memory: 1134.11 MiB, increment: 0.00 MiB\n"
     ]
    }
   ],
   "source": [
    "%%memit\n",
    "a = 1.5"
   ]
  },
  {
   "cell_type": "code",
   "execution_count": 18,
   "id": "45240014-1a44-4371-8455-6f745b330dce",
   "metadata": {
    "tags": []
   },
   "outputs": [
    {
     "name": "stdout",
     "output_type": "stream",
     "text": [
      "peak memory: 1408.86 MiB, increment: 274.75 MiB\n"
     ]
    }
   ],
   "source": [
    "%%memit\n",
    "df_parr_feat = fc.calculate(data=df_emg, n_jobs=None, return_df=True)"
   ]
  },
  {
   "cell_type": "code",
   "execution_count": 20,
   "id": "1cac9358-dc51-4116-881e-60f867c6b028",
   "metadata": {},
   "outputs": [],
   "source": [
    "# !pip install line_profiler"
   ]
  },
  {
   "cell_type": "code",
   "execution_count": 21,
   "id": "d1c0d512-aa65-40d9-857a-eff349f1990c",
   "metadata": {},
   "outputs": [
    {
     "ename": "ImportError",
     "evalue": "cannot import name 'profile' from 'line_profiler' (/users/jonvdrdo/jonas/projects/context_aware_health_monitoring/.caw_venv37/lib/python3.7/site-packages/line_profiler/__init__.py)",
     "output_type": "error",
     "traceback": [
      "\u001b[0;31m---------------------------------------------------------------------------\u001b[0m",
      "\u001b[0;31mImportError\u001b[0m                               Traceback (most recent call last)",
      "\u001b[0;32m<ipython-input-21-62ef12a3427e>\u001b[0m in \u001b[0;36m<module>\u001b[0;34m\u001b[0m\n\u001b[0;32m----> 1\u001b[0;31m \u001b[0;32mfrom\u001b[0m \u001b[0mline_profiler\u001b[0m \u001b[0;32mimport\u001b[0m \u001b[0mprofile\u001b[0m\u001b[0;34m\u001b[0m\u001b[0;34m\u001b[0m\u001b[0m\n\u001b[0m",
      "\u001b[0;31mImportError\u001b[0m: cannot import name 'profile' from 'line_profiler' (/users/jonvdrdo/jonas/projects/context_aware_health_monitoring/.caw_venv37/lib/python3.7/site-packages/line_profiler/__init__.py)"
     ]
    }
   ],
   "source": [
    "from line_profiler import profile"
   ]
  },
  {
   "cell_type": "code",
   "execution_count": 18,
   "id": "da07a0fd-fdc9-4fdf-9d3b-ff1f14e03d58",
   "metadata": {},
   "outputs": [
    {
     "name": "stdout",
     "output_type": "stream",
     "text": [
      "peak memory: 223.50 MiB, increment: 0.00 MiB\n"
     ]
    }
   ],
   "source": [
    "%%memit\n",
    "a = 2"
   ]
  },
  {
   "cell_type": "code",
   "execution_count": 25,
   "id": "330e060c-e5ed-47ce-b005-71ac7adce4a3",
   "metadata": {},
   "outputs": [],
   "source": [
    "%%memit\n",
    "fc.calculate(data=df_emg, n_jobs=None)\n",
    "\n",
    "%%timeit\n",
    "fc.calculate(data=df_emg, n_jobs=None)\n",
    "\n",
    "# %%timeit\n",
    "out = fc.calculate(data=df_emg, n_jobs=None, return_df=True)\n",
    "out.info()"
   ]
  }
 ],
 "metadata": {
  "kernelspec": {
   "display_name": "Python 3",
   "language": "python",
   "name": "python3"
  },
  "language_info": {
   "codemirror_mode": {
    "name": "ipython",
    "version": 3
   },
   "file_extension": ".py",
   "mimetype": "text/x-python",
   "name": "python",
   "nbconvert_exporter": "python",
   "pygments_lexer": "ipython3",
   "version": "3.7.5"
  }
 },
 "nbformat": 4,
 "nbformat_minor": 5
}
